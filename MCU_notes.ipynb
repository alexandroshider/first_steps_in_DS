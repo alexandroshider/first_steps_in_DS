{
 "cells": [
  {
   "cell_type": "code",
   "execution_count": 1,
   "metadata": {},
   "outputs": [
    {
     "name": "stdout",
     "output_type": "stream",
     "text": [
      "                              Película   Estreno en EE. UU.\n",
      "0                             Iron Man   02 de mayo de 2008\n",
      "1                  The Incredible Hulk  13 de junio de 2008\n",
      "2                           Iron Man 2    7 de mayo de 2010\n",
      "3                                 Thor    6 de mayo de 2011\n",
      "4  Capitán América: el primer vengador  22 de julio de 2011\n"
     ]
    }
   ],
   "source": [
    "import pandas as pd\n",
    "import requests\n",
    "import re\n",
    "\n",
    "#simpsons_wiki=requests.request(\"https://en.wikipedia.org/wiki/List_of_The_Simpsons_episodes_(seasons_1–20)\",\"r\")\n",
    "\n",
    "website = requests.get(\"https://es.wikipedia.org/wiki/Anexo:Películas_del_Universo_cinematográfico_de_Marvel\")#, auth=('user', 'pass'))\n",
    "website = website.text\n",
    "tables = pd.read_html(website, encoding=\"UTF-8\")\n",
    "start = re\n",
    "#for i in range(1,6):\n",
    "pelis = tables[1]\n",
    "#print(list(pelis))\n",
    "#print(pelis['Película'],pelis['Estreno en EE.\\xa0UU.'])\n",
    "print(pelis.iloc[0:5, 0:2])"
   ]
  },
  {
   "cell_type": "markdown",
   "metadata": {},
   "source": [
    "UTF-8: It is how to encode the data with the \"asentos\" in Spanish. \n",
    " \n",
    "There is not only one way to get data from web sites. You have many \n",
    "library packages. Do not use the ONE in the tutorial. You can even \n",
    "combinate them like I did with requests and pandas."
   ]
  }
 ],
 "metadata": {
  "kernelspec": {
   "display_name": "Python 3.9.6 64-bit",
   "language": "python",
   "name": "python3"
  },
  "language_info": {
   "codemirror_mode": {
    "name": "ipython",
    "version": 3
   },
   "file_extension": ".py",
   "mimetype": "text/x-python",
   "name": "python",
   "nbconvert_exporter": "python",
   "pygments_lexer": "ipython3",
   "version": "3.9.6"
  },
  "orig_nbformat": 4,
  "vscode": {
   "interpreter": {
    "hash": "44a5f83f3de4f374d0948e06fdadaa475ddddf155eba543d7f4a8e55587135b8"
   }
  }
 },
 "nbformat": 4,
 "nbformat_minor": 2
}
